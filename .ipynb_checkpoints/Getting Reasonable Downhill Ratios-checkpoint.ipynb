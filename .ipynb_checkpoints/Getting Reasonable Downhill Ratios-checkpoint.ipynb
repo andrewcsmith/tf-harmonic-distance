{
 "cells": [
  {
   "cell_type": "code",
   "execution_count": 1,
   "metadata": {},
   "outputs": [],
   "source": [
    "import harmonic_distance as hd\n",
    "import numpy as np\n",
    "import tensorflow as tf\n",
    "import matplotlib.pyplot as plt\n",
    "import importlib\n",
    "\n",
    "from tensorflow.python.client import timeline"
   ]
  },
  {
   "cell_type": "code",
   "execution_count": 2,
   "metadata": {},
   "outputs": [],
   "source": [
    "config = tf.ConfigProto()\n",
    "config.gpu_options.allow_growth = True\n",
    "config.graph_options.optimizer_options.global_jit_level = tf.OptimizerOptions.ON_1\n",
    "sess = tf.Session(config=config)\n",
    "cpu_session = tf.Session(config=tf.ConfigProto(device_count={'GPU': 0}))\n",
    "run_metadata = tf.RunMetadata()"
   ]
  },
  {
   "cell_type": "code",
   "execution_count": 40,
   "metadata": {},
   "outputs": [],
   "source": [
    "vectors = hd.vectors.space_graph_altered_permutations([5, 5, 3, 2, 1, 1], bounds=(-1.0, 0.0))"
   ]
  },
  {
   "cell_type": "code",
   "execution_count": 41,
   "metadata": {},
   "outputs": [
    {
     "data": {
      "text/plain": [
       "array([[-5., -5.,  0.,  2.,  1.,  1.],\n",
       "       [-5., -5.,  1.,  1.,  1.,  1.],\n",
       "       [-5., -5.,  3.,  2., -1.,  1.],\n",
       "       ...,\n",
       "       [ 5.,  5., -3., -1., -1.,  0.],\n",
       "       [ 5.,  5., -3., -1.,  0., -1.],\n",
       "       [ 5.,  5., -2., -2., -1.,  0.]])"
      ]
     },
     "execution_count": 41,
     "metadata": {},
     "output_type": "execute_result"
    }
   ],
   "source": [
    "sess.run(vectors)"
   ]
  },
  {
   "cell_type": "code",
   "execution_count": 42,
   "metadata": {},
   "outputs": [],
   "source": [
    "root_valences = hd.tenney.hd_root_valence(vectors)\n",
    "downhill = tf.boolean_mask(vectors, root_valences < 0.0)"
   ]
  },
  {
   "cell_type": "code",
   "execution_count": 43,
   "metadata": {},
   "outputs": [],
   "source": [
    "downhill_vecs = sess.run(downhill)"
   ]
  },
  {
   "cell_type": "code",
   "execution_count": 44,
   "metadata": {},
   "outputs": [
    {
     "data": {
      "text/plain": [
       "(839, 6)"
      ]
     },
     "execution_count": 44,
     "metadata": {},
     "output_type": "execute_result"
    }
   ],
   "source": [
    "downhill_vecs.shape"
   ]
  },
  {
   "cell_type": "code",
   "execution_count": 45,
   "metadata": {},
   "outputs": [],
   "source": [
    "hds = hd.tenney.hd_aggregate_graph(downhill[:, None, :])\n",
    "reasonable = tf.boolean_mask(downhill, hds < 7.0)"
   ]
  },
  {
   "cell_type": "code",
   "execution_count": 46,
   "metadata": {},
   "outputs": [],
   "source": [
    "out = sess.run(reasonable)"
   ]
  },
  {
   "cell_type": "code",
   "execution_count": 47,
   "metadata": {},
   "outputs": [],
   "source": [
    "valence_array = sess.run(hd.tenney.hd_root_valence(reasonable))"
   ]
  },
  {
   "cell_type": "code",
   "execution_count": 48,
   "metadata": {},
   "outputs": [
    {
     "name": "stdout",
     "output_type": "stream",
     "text": [
      "18\n",
      "[(8.0, 15.0), (7.0, 13.0), (6.0, 11.0), (5.0, 9.0), (4.0, 7.0), (3.0, 5.0), (8.0, 13.0), (7.0, 11.0), (2.0, 3.0), (9.0, 13.0), (5.0, 7.0), (8.0, 11.0), (7.0, 9.0), (4.0, 5.0), (9.0, 11.0), (6.0, 7.0), (8.0, 9.0), (10.0, 11.0)]\n"
     ]
    }
   ],
   "source": [
    "def vector_to_ratio(vector):\n",
    "    primes = hd.PRIMES[:vector.shape[0]]\n",
    "    num = np.where(vector > 0, vector, np.zeros_like(primes))\n",
    "    den = np.where(vector < 0, vector, np.zeros_like(primes))\n",
    "    return (\n",
    "        np.product(np.power(primes, num)), \n",
    "        np.product(primes ** np.abs(den))\n",
    "    )\n",
    "\n",
    "all_possible_pitches = { }\n",
    "\n",
    "for row, valence in zip(out, valence_array):\n",
    "    all_possible_pitches[vector_to_ratio(row)] = valence\n",
    "\n",
    "print(len(all_possible_pitches))\n",
    "print(sorted(all_possible_pitches, key=lambda r: (r[0] / r[1])))"
   ]
  },
  {
   "cell_type": "code",
   "execution_count": 49,
   "metadata": {},
   "outputs": [],
   "source": [
    "idx_orders = np.argsort(list(all_possible_pitches.values()))"
   ]
  },
  {
   "cell_type": "code",
   "execution_count": 56,
   "metadata": {},
   "outputs": [
    {
     "name": "stdout",
     "output_type": "stream",
     "text": [
      "(8.0, 15.0) \tvalence: -3.9068905956085187\n",
      "(8.0, 13.0) \tvalence: -3.700439718141092\n",
      "(8.0, 11.0) \tvalence: -3.4594316186372973\n",
      "(8.0, 9.0) \tvalence: -3.1699250014423126\n",
      "(4.0, 7.0) \tvalence: -2.807354922057604\n",
      "(4.0, 5.0) \tvalence: -2.321928094887362\n",
      "(6.0, 11.0) \tvalence: -1.874469117916141\n",
      "(2.0, 3.0) \tvalence: -1.5849625007211563\n",
      "(6.0, 7.0) \tvalence: -1.2223924213364479\n",
      "(10.0, 11.0) \tvalence: -1.1375035237499351\n",
      "(7.0, 13.0) \tvalence: -0.893084796083488\n",
      "(5.0, 9.0) \tvalence: -0.8479969065549504\n",
      "(3.0, 5.0) \tvalence: -0.7369655941662059\n",
      "(7.0, 11.0) \tvalence: -0.6520766965796931\n",
      "(9.0, 13.0) \tvalence: -0.5305147166987796\n",
      "(5.0, 7.0) \tvalence: -0.485426827170242\n",
      "(7.0, 9.0) \tvalence: -0.3625700793847084\n",
      "(9.0, 11.0) \tvalence: -0.2895066171949847\n"
     ]
    }
   ],
   "source": [
    "# Prints the order of \"most negative\" to \"most ambiguous\" harmonic motion\n",
    "for row in out[idx_orders]:\n",
    "    a = vector_to_ratio(row)\n",
    "    b = all_possible_pitches[a]\n",
    "    print(f\"{a} \\tvalence: {b}\")"
   ]
  },
  {
   "cell_type": "code",
   "execution_count": null,
   "metadata": {},
   "outputs": [],
   "source": []
  }
 ],
 "metadata": {
  "kernelspec": {
   "display_name": "Python 3",
   "language": "python",
   "name": "python3"
  },
  "language_info": {
   "codemirror_mode": {
    "name": "ipython",
    "version": 3
   },
   "file_extension": ".py",
   "mimetype": "text/x-python",
   "name": "python",
   "nbconvert_exporter": "python",
   "pygments_lexer": "ipython3",
   "version": "3.6.6"
  }
 },
 "nbformat": 4,
 "nbformat_minor": 2
}
