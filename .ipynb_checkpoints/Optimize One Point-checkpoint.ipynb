{
 "cells": [
  {
   "cell_type": "code",
   "execution_count": 1,
   "metadata": {},
   "outputs": [],
   "source": [
    "import harmonic_distance as hd\n",
    "import numpy as np\n",
    "import tensorflow as tf\n",
    "import matplotlib.pyplot as plt\n",
    "import importlib\n",
    "\n",
    "from tensorflow.python.client import timeline"
   ]
  },
  {
   "cell_type": "code",
   "execution_count": 2,
   "metadata": {},
   "outputs": [],
   "source": [
    "config = tf.ConfigProto()\n",
    "config.gpu_options.allow_growth = True\n",
    "config.graph_options.optimizer_options.global_jit_level = tf.OptimizerOptions.ON_1\n",
    "sess = tf.Session(config=config)\n",
    "cpu_session = tf.Session(config=tf.ConfigProto(device_count={'GPU': 0}))\n",
    "run_metadata = tf.RunMetadata()"
   ]
  },
  {
   "cell_type": "code",
   "execution_count": 3,
   "metadata": {},
   "outputs": [],
   "source": [
    "C = 0.02\n",
    "LEARNING_RATE = 1.0e-4\n",
    "CONVERGENCE_THRESHOLD = 1.0e-8\n",
    "MAX_ITERS = 1000000"
   ]
  },
  {
   "cell_type": "code",
   "execution_count": 4,
   "metadata": {},
   "outputs": [],
   "source": [
    "vectors = hd.vectors.space_graph_altered_permutations([5, 5, 3, 3, 2, 1], bounds=(0.0, 4.0))\n",
    "vectors_hds = hd.tenney.hd_aggregate_graph(tf.cast(vectors[:, None, :], tf.float64))\n",
    "vectors_reasonable = tf.boolean_mask(vectors, vectors_hds < 9.0)"
   ]
  },
  {
   "cell_type": "code",
   "execution_count": 5,
   "metadata": {},
   "outputs": [
    {
     "data": {
      "text/plain": [
       "(228, 6)"
      ]
     },
     "execution_count": 5,
     "metadata": {},
     "output_type": "execute_result"
    }
   ],
   "source": [
    "sess.run(vectors_reasonable).shape"
   ]
  },
  {
   "cell_type": "code",
   "execution_count": 6,
   "metadata": {},
   "outputs": [],
   "source": [
    "perms = hd.cartesian.permutations(vectors_reasonable, times=2)\n",
    "np_perms = sess.run(perms)"
   ]
  },
  {
   "cell_type": "code",
   "execution_count": 7,
   "metadata": {},
   "outputs": [],
   "source": [
    "perms = tf.constant(np_perms, dtype=tf.float64)"
   ]
  },
  {
   "cell_type": "code",
   "execution_count": 8,
   "metadata": {},
   "outputs": [
    {
     "data": {
      "text/plain": [
       "TensorShape([Dimension(51984), Dimension(2), Dimension(6)])"
      ]
     },
     "execution_count": 8,
     "metadata": {},
     "output_type": "execute_result"
    }
   ],
   "source": [
    "perms.shape"
   ]
  },
  {
   "cell_type": "code",
   "execution_count": 9,
   "metadata": {},
   "outputs": [],
   "source": [
    "hds = hd.tenney.hd_aggregate_graph(perms) + 1.0\n",
    "pds = hd.tenney.pd_aggregate_graph(perms)\n",
    "hds_np, pds_np = sess.run([hds, pds])\n",
    "hds = tf.constant(hds_np)\n",
    "pds = tf.constant(pds_np)"
   ]
  },
  {
   "cell_type": "code",
   "execution_count": 10,
   "metadata": {},
   "outputs": [],
   "source": [
    "with tf.variable_scope(\"default\", reuse=tf.AUTO_REUSE):\n",
    "    log_pitches = tf.get_variable(\"log_pitches_1x2\", [1, 2], dtype=tf.float64)\n",
    "init_op = tf.global_variables_initializer()\n",
    "sess.run(init_op)"
   ]
  },
  {
   "cell_type": "code",
   "execution_count": 12,
   "metadata": {
    "scrolled": false
   },
   "outputs": [
    {
     "data": {
      "text/plain": [
       "[array([[2.41666667, 2.83333333]]), array([14.65841771])]"
      ]
     },
     "execution_count": 12,
     "metadata": {},
     "output_type": "execute_result"
    }
   ],
   "source": [
    "loss = hd.optimize.parabolic_loss_function(pds, hds, log_pitches, curves=[C, C])\n",
    "stopping_op = hd.optimize.stopping_op(loss, [log_pitches], lr=LEARNING_RATE, ct=CONVERGENCE_THRESHOLD)\n",
    "# starting = np.log2(np.array([[5.0 / 3.0, 20.0 / 9.0]]))\n",
    "starting = np.array([[5.0 / 12.0, 10.0 / 12.0]]) + 2.0\n",
    "# Initialize the variables and assign the initial pitches\n",
    "init_op = tf.global_variables_initializer()\n",
    "assign_op = log_pitches.assign(starting)\n",
    "\n",
    "# Prints the initial value of the loss function\n",
    "sess.run([assign_op, loss])"
   ]
  },
  {
   "cell_type": "code",
   "execution_count": 13,
   "metadata": {},
   "outputs": [
    {
     "name": "stdout",
     "output_type": "stream",
     "text": [
      "Converged at iteration:  87\n",
      "[[2.39231748 2.80735498]]\n"
     ]
    }
   ],
   "source": [
    "for idx in range(MAX_ITERS):\n",
    "    if (sess.run(stopping_op, run_metadata=run_metadata)):\n",
    "        print(\"Converged at iteration: \", idx)\n",
    "        out_pitches = np.array(sess.run(log_pitches))\n",
    "        print(out_pitches)\n",
    "        break"
   ]
  },
  {
   "cell_type": "code",
   "execution_count": null,
   "metadata": {},
   "outputs": [],
   "source": []
  }
 ],
 "metadata": {
  "kernelspec": {
   "display_name": "Python 3",
   "language": "python",
   "name": "python3"
  },
  "language_info": {
   "codemirror_mode": {
    "name": "ipython",
    "version": 3
   },
   "file_extension": ".py",
   "mimetype": "text/x-python",
   "name": "python",
   "nbconvert_exporter": "python",
   "pygments_lexer": "ipython3",
   "version": "3.6.6"
  }
 },
 "nbformat": 4,
 "nbformat_minor": 2
}
