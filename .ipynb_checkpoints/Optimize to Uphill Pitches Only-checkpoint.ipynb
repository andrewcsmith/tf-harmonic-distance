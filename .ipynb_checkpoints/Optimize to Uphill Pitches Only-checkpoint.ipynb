{
 "cells": [
  {
   "cell_type": "code",
   "execution_count": 1,
   "metadata": {},
   "outputs": [],
   "source": [
    "import hd\n",
    "import numpy as np\n",
    "import tensorflow as tf\n",
    "import matplotlib.pyplot as plt\n",
    "import importlib\n",
    "\n",
    "from tensorflow.python.client import timeline"
   ]
  },
  {
   "cell_type": "code",
   "execution_count": 2,
   "metadata": {},
   "outputs": [],
   "source": [
    "config = tf.ConfigProto()\n",
    "config.gpu_options.allow_growth = True\n",
    "config.graph_options.optimizer_options.global_jit_level = tf.OptimizerOptions.ON_1\n",
    "sess = tf.Session(config=config)\n",
    "cpu_session = tf.Session(config=tf.ConfigProto(device_count={'GPU': 0}))\n",
    "run_metadata = tf.RunMetadata()"
   ]
  },
  {
   "cell_type": "code",
   "execution_count": 3,
   "metadata": {},
   "outputs": [],
   "source": [
    "C = 0.02\n",
    "LEARNING_RATE = 1.0e-4\n",
    "CONVERGENCE_THRESHOLD = 1.0e-8\n",
    "MAX_ITERS = 1000000\n",
    "DIMENSIONS = 2"
   ]
  },
  {
   "cell_type": "code",
   "execution_count": 75,
   "metadata": {},
   "outputs": [],
   "source": [
    "vectors = hd.vectors.space_graph_altered_permutations([5, 5, 3, 3, 2, 1], bounds=(0.0, 4.0))\n",
    "vectors_hds = hd.tenney.hd_aggregate_graph(tf.cast(vectors[:, None, :], tf.float64))\n",
    "vectors_reasonable = tf.boolean_mask(vectors, vectors_hds < 12.0)"
   ]
  },
  {
   "cell_type": "code",
   "execution_count": 76,
   "metadata": {},
   "outputs": [],
   "source": [
    "root_valences = hd.tenney.hd_root_valence(vectors_reasonable)\n",
    "uphill_vectors = tf.boolean_mask(vectors_reasonable, root_valences >= 0.0)"
   ]
  },
  {
   "cell_type": "code",
   "execution_count": 77,
   "metadata": {},
   "outputs": [],
   "source": [
    "perms = hd.cartesian.permutations(uphill_vectors, times=2)\n",
    "np_perms = sess.run(perms)\n",
    "perms = tf.constant(np_perms, dtype=tf.float64)"
   ]
  },
  {
   "cell_type": "code",
   "execution_count": null,
   "metadata": {},
   "outputs": [],
   "source": [
    "hds = hd.tenney.hd_aggregate_graph(perms) + 1.0\n",
    "pds = hd.tenney.pd_aggregate_graph(perms)\n",
    "hds_np, pds_np = sess.run([hds, pds])\n",
    "hds = tf.constant(hds_np)\n",
    "pds = tf.constant(pds_np)"
   ]
  },
  {
   "cell_type": "code",
   "execution_count": null,
   "metadata": {},
   "outputs": [],
   "source": [
    "with tf.variable_scope(\"default\", reuse=tf.AUTO_REUSE):\n",
    "    log_pitches = tf.get_variable(\"log_pitches_1x2\", [1, 2], dtype=tf.float64)"
   ]
  },
  {
   "cell_type": "code",
   "execution_count": null,
   "metadata": {
    "scrolled": false
   },
   "outputs": [],
   "source": [
    "C=0.03\n",
    "loss = hd.optimize.parabolic_loss_function(pds, hds, log_pitches, a=C, b=C)\n",
    "stopping_op = hd.optimize.stopping_op(loss, [log_pitches], lr=LEARNING_RATE, ct=CONVERGENCE_THRESHOLD)\n",
    "starting = np.log2(np.array([[5.0 / 3.0, 20.0 / 9.0]])) + 2.0\n",
    "# starting = np.log2(np.array([[4.0 / 3.0, 16.0 / 9.0]])) + 2.0\n",
    "# Initialize the variables and assign the initial pitches\n",
    "init_op = tf.global_variables_initializer()\n",
    "assign_op = log_pitches.assign(starting)\n",
    "\n",
    "# Prints the initial value of the loss function\n",
    "sess.run([assign_op, loss])"
   ]
  },
  {
   "cell_type": "code",
   "execution_count": null,
   "metadata": {},
   "outputs": [],
   "source": [
    "for idx in range(MAX_ITERS):\n",
    "    if (sess.run(stopping_op, run_metadata=run_metadata)):\n",
    "        print(\"Converged at iteration: \", idx)\n",
    "        out_pitches = np.array(sess.run(log_pitches))\n",
    "        print(out_pitches)\n",
    "        break"
   ]
  },
  {
   "cell_type": "code",
   "execution_count": null,
   "metadata": {},
   "outputs": [],
   "source": [
    "log_vectors = hd.vectors.pd_graph(uphill_vectors)\n",
    "diffs_to_poles = tf.abs(tf.tile(log_vectors[:, None, None], [1, 1, 2]) - out_pitches)\n",
    "mins = tf.argmin(diffs_to_poles, axis=0)\n",
    "winner = tf.map_fn(lambda m: tf.map_fn(lambda v: uphill_vectors[v], m, dtype=tf.float64), mins, dtype=tf.float64)\n",
    "winners = sess.run(winner)\n",
    "print(winners)\n",
    "\n",
    "def vector_to_ratio(vector):\n",
    "    primes = hd.PRIMES[:vector.shape[0]]\n",
    "    num = np.where(vector > 0, vector, np.zeros_like(primes))\n",
    "    den = np.where(vector < 0, vector, np.zeros_like(primes))\n",
    "    return (\n",
    "        np.product(np.power(primes, num)), \n",
    "        np.product(primes ** np.abs(den))\n",
    "    )\n",
    "\n",
    "all_possible_pitches = set()\n",
    "\n",
    "for row in winners:\n",
    "    all_possible_pitches.add(tuple([vector_to_ratio(r) for r in row]))\n",
    "\n",
    "print(len(all_possible_pitches))\n",
    "print(sorted(all_possible_pitches, key=lambda r: (r[0][0] / r[0][1], r[1][0] / r[1][1])))"
   ]
  }
 ],
 "metadata": {
  "kernelspec": {
   "display_name": "Python 3",
   "language": "python",
   "name": "python3"
  },
  "language_info": {
   "codemirror_mode": {
    "name": "ipython",
    "version": 3
   },
   "file_extension": ".py",
   "mimetype": "text/x-python",
   "name": "python",
   "nbconvert_exporter": "python",
   "pygments_lexer": "ipython3",
   "version": "3.6.3"
  }
 },
 "nbformat": 4,
 "nbformat_minor": 2
}
