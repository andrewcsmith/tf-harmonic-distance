{
 "cells": [
  {
   "cell_type": "code",
   "execution_count": 1,
   "metadata": {},
   "outputs": [],
   "source": [
    "import hd\n",
    "import numpy as np\n",
    "import tensorflow as tf\n",
    "import matplotlib.pyplot as plt\n",
    "import importlib"
   ]
  },
  {
   "cell_type": "code",
   "execution_count": 8,
   "metadata": {},
   "outputs": [],
   "source": [
    "config = tf.ConfigProto()\n",
    "config.gpu_options.allow_growth = True\n",
    "sess = tf.Session(config=config)"
   ]
  },
  {
   "cell_type": "code",
   "execution_count": 25,
   "metadata": {},
   "outputs": [],
   "source": [
    "# exponent vectors for the series of prime numbers\n",
    "vecs = np.array([\n",
    "    [1., 0., 0.],  # 2/1\n",
    "    [-1., 1., 0.], # 3/2\n",
    "    [-2., 0., 1.], # 5/4\n",
    "    [1., 1., -1.], # 6/5\n",
    "    [2., -1., 0.], # 4/3\n",
    "    [-1., 0., 0.]  # 1/2\n",
    "])"
   ]
  },
  {
   "cell_type": "code",
   "execution_count": 26,
   "metadata": {},
   "outputs": [
    {
     "data": {
      "text/plain": [
       "array([[ 1.        ,  0.        ,  0.        ],\n",
       "       [-1.        ,  1.5849625 ,  0.        ],\n",
       "       [-2.        ,  0.        ,  2.32192809],\n",
       "       [ 1.        ,  1.5849625 , -2.32192809],\n",
       "       [ 2.        , -1.5849625 ,  0.        ],\n",
       "       [-1.        ,  0.        ,  0.        ]])"
      ]
     },
     "execution_count": 26,
     "metadata": {},
     "output_type": "execute_result"
    }
   ],
   "source": [
    "# This gets us the signed exponents\n",
    "exploded = hd.tenney.exploded_hd_graph(3, vecs)\n",
    "sess.run(exploded)"
   ]
  },
  {
   "cell_type": "code",
   "execution_count": 37,
   "metadata": {},
   "outputs": [
    {
     "data": {
      "text/plain": [
       "array([[ 0.        ,  0.        ],\n",
       "       [ 1.5849625 ,  0.        ],\n",
       "       [ 0.        ,  2.32192809],\n",
       "       [ 1.5849625 , -2.32192809],\n",
       "       [-1.5849625 ,  0.        ],\n",
       "       [ 0.        ,  0.        ]])"
      ]
     },
     "execution_count": 37,
     "metadata": {},
     "output_type": "execute_result"
    }
   ],
   "source": [
    "# Remove the column with the hd of the octave\n",
    "octave_equivalence = exploded[:, 1:]\n",
    "sess.run(octave_equivalence)"
   ]
  },
  {
   "cell_type": "code",
   "execution_count": 40,
   "metadata": {},
   "outputs": [
    {
     "data": {
      "text/plain": [
       "array([ 0.        ,  1.5849625 ,  2.32192809, -0.73696559, -1.5849625 ,\n",
       "        0.        ])"
      ]
     },
     "execution_count": 40,
     "metadata": {},
     "output_type": "execute_result"
    }
   ],
   "source": [
    "# Any positive values should be \"uphill\" while negatives should be \"downhill\"\n",
    "summed = tf.reduce_sum(octave_equivalence, axis=1)\n",
    "sess.run(summed)"
   ]
  }
 ],
 "metadata": {
  "kernelspec": {
   "display_name": "Python 3",
   "language": "python",
   "name": "python3"
  },
  "language_info": {
   "codemirror_mode": {
    "name": "ipython",
    "version": 3
   },
   "file_extension": ".py",
   "mimetype": "text/x-python",
   "name": "python",
   "nbconvert_exporter": "python",
   "pygments_lexer": "ipython3",
   "version": "3.6.3"
  }
 },
 "nbformat": 4,
 "nbformat_minor": 2
}
