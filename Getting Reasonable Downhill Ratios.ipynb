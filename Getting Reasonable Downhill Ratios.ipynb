{
 "cells": [
  {
   "cell_type": "code",
   "execution_count": 54,
   "metadata": {},
   "outputs": [],
   "source": [
    "import hd\n",
    "import numpy as np\n",
    "import tensorflow as tf\n",
    "import matplotlib.pyplot as plt\n",
    "import importlib\n",
    "\n",
    "from tensorflow.python.client import timeline"
   ]
  },
  {
   "cell_type": "code",
   "execution_count": 55,
   "metadata": {},
   "outputs": [],
   "source": [
    "config = tf.ConfigProto()\n",
    "config.gpu_options.allow_growth = True\n",
    "config.graph_options.optimizer_options.global_jit_level = tf.OptimizerOptions.ON_1\n",
    "sess = tf.Session(config=config)\n",
    "cpu_session = tf.Session(config=tf.ConfigProto(device_count={'GPU': 0}))\n",
    "run_metadata = tf.RunMetadata()"
   ]
  },
  {
   "cell_type": "code",
   "execution_count": 56,
   "metadata": {},
   "outputs": [],
   "source": [
    "vectors = hd.vectors.space_graph_altered_permutations([5, 5, 3, 2, 1, 1], bounds=(0.0, 1.0))"
   ]
  },
  {
   "cell_type": "code",
   "execution_count": 57,
   "metadata": {},
   "outputs": [
    {
     "data": {
      "text/plain": [
       "array([[-5., -5.,  2.,  2.,  1.,  0.],\n",
       "       [-5., -5.,  3.,  1.,  0.,  1.],\n",
       "       [-5., -5.,  3.,  1.,  1.,  0.],\n",
       "       ...,\n",
       "       [ 5.,  5., -3., -2.,  1., -1.],\n",
       "       [ 5.,  5., -1., -1., -1., -1.],\n",
       "       [ 5.,  5.,  0., -2., -1., -1.]])"
      ]
     },
     "execution_count": 57,
     "metadata": {},
     "output_type": "execute_result"
    }
   ],
   "source": [
    "sess.run(vectors)"
   ]
  },
  {
   "cell_type": "code",
   "execution_count": 58,
   "metadata": {},
   "outputs": [],
   "source": [
    "root_valences = hd.tenney.hd_root_valence(vectors)\n",
    "downhill = tf.boolean_mask(vectors, root_valences < 0.0)"
   ]
  },
  {
   "cell_type": "code",
   "execution_count": 59,
   "metadata": {},
   "outputs": [],
   "source": [
    "downhill_vecs = sess.run(downhill)"
   ]
  },
  {
   "cell_type": "code",
   "execution_count": 60,
   "metadata": {},
   "outputs": [
    {
     "data": {
      "text/plain": [
       "(714, 6)"
      ]
     },
     "execution_count": 60,
     "metadata": {},
     "output_type": "execute_result"
    }
   ],
   "source": [
    "downhill_vecs.shape"
   ]
  },
  {
   "cell_type": "code",
   "execution_count": 91,
   "metadata": {},
   "outputs": [],
   "source": [
    "hds = hd.tenney.hd_aggregate_graph(downhill[:, None, :])\n",
    "reasonable = tf.boolean_mask(downhill, hds < 8.0)"
   ]
  },
  {
   "cell_type": "code",
   "execution_count": 92,
   "metadata": {},
   "outputs": [],
   "source": [
    "out = sess.run(reasonable)"
   ]
  },
  {
   "cell_type": "code",
   "execution_count": 93,
   "metadata": {},
   "outputs": [],
   "source": [
    "valence_array = sess.run(hd.tenney.hd_root_valence(reasonable))"
   ]
  },
  {
   "cell_type": "code",
   "execution_count": 94,
   "metadata": {},
   "outputs": [
    {
     "name": "stdout",
     "output_type": "stream",
     "text": [
      "18\n",
      "[(16.0, 15.0), (14.0, 13.0), (12.0, 11.0), (10.0, 9.0), (8.0, 7.0), (6.0, 5.0), (16.0, 13.0), (14.0, 11.0), (4.0, 3.0), (18.0, 13.0), (10.0, 7.0), (16.0, 11.0), (14.0, 9.0), (8.0, 5.0), (18.0, 11.0), (12.0, 7.0), (16.0, 9.0), (20.0, 11.0)]\n"
     ]
    }
   ],
   "source": [
    "def vector_to_ratio(vector):\n",
    "    primes = hd.PRIMES[:vector.shape[0]]\n",
    "    num = np.where(vector > 0, vector, np.zeros_like(primes))\n",
    "    den = np.where(vector < 0, vector, np.zeros_like(primes))\n",
    "    return (\n",
    "        np.product(np.power(primes, num)), \n",
    "        np.product(primes ** np.abs(den))\n",
    "    )\n",
    "\n",
    "all_possible_pitches = { }\n",
    "\n",
    "for row, valence in zip(out, valence_array):\n",
    "    all_possible_pitches[vector_to_ratio(row)] = valence\n",
    "\n",
    "print(len(all_possible_pitches))\n",
    "print(sorted(all_possible_pitches, key=lambda r: (r[0] / r[1])))"
   ]
  },
  {
   "cell_type": "code",
   "execution_count": 95,
   "metadata": {},
   "outputs": [],
   "source": [
    "idx_orders = np.argsort(list(all_possible_pitches.values()))"
   ]
  },
  {
   "cell_type": "code",
   "execution_count": 96,
   "metadata": {},
   "outputs": [
    {
     "name": "stdout",
     "output_type": "stream",
     "text": [
      "(16.0, 15.0)\n",
      "(16.0, 13.0)\n",
      "(16.0, 11.0)\n",
      "(16.0, 9.0)\n",
      "(8.0, 7.0)\n",
      "(8.0, 5.0)\n",
      "(12.0, 11.0)\n",
      "(4.0, 3.0)\n",
      "(12.0, 7.0)\n",
      "(20.0, 11.0)\n",
      "(14.0, 13.0)\n",
      "(10.0, 9.0)\n",
      "(6.0, 5.0)\n",
      "(14.0, 11.0)\n",
      "(18.0, 13.0)\n",
      "(10.0, 7.0)\n",
      "(14.0, 9.0)\n",
      "(18.0, 11.0)\n"
     ]
    }
   ],
   "source": [
    "for row in out[idx_orders]:\n",
    "    print(vector_to_ratio(row))"
   ]
  },
  {
   "cell_type": "code",
   "execution_count": null,
   "metadata": {},
   "outputs": [],
   "source": []
  }
 ],
 "metadata": {
  "kernelspec": {
   "display_name": "Python 3",
   "language": "python",
   "name": "python3"
  },
  "language_info": {
   "codemirror_mode": {
    "name": "ipython",
    "version": 3
   },
   "file_extension": ".py",
   "mimetype": "text/x-python",
   "name": "python",
   "nbconvert_exporter": "python",
   "pygments_lexer": "ipython3",
   "version": "3.6.3"
  }
 },
 "nbformat": 4,
 "nbformat_minor": 2
}
