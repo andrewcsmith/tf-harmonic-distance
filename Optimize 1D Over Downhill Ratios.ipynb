{
 "cells": [
  {
   "cell_type": "code",
   "execution_count": 1,
   "metadata": {},
   "outputs": [],
   "source": [
    "import hd\n",
    "import numpy as np\n",
    "import tensorflow as tf\n",
    "import matplotlib.pyplot as plt\n",
    "import importlib\n",
    "\n",
    "from tensorflow.python.client import timeline"
   ]
  },
  {
   "cell_type": "code",
   "execution_count": 2,
   "metadata": {},
   "outputs": [],
   "source": [
    "config = tf.ConfigProto()\n",
    "config.gpu_options.allow_growth = True\n",
    "config.graph_options.optimizer_options.global_jit_level = tf.OptimizerOptions.ON_1\n",
    "sess = tf.Session(config=config)\n",
    "cpu_session = tf.Session(config=tf.ConfigProto(device_count={'GPU': 0}))\n",
    "run_metadata = tf.RunMetadata()"
   ]
  },
  {
   "cell_type": "code",
   "execution_count": 13,
   "metadata": {},
   "outputs": [],
   "source": [
    "vectors = hd.vectors.space_graph_altered_permutations([5, 5, 3, 2, 1, 1], bounds=(-1.0, 1.0))"
   ]
  },
  {
   "cell_type": "code",
   "execution_count": 14,
   "metadata": {},
   "outputs": [],
   "source": [
    "root_valences = hd.tenney.hd_root_valence(vectors)\n",
    "downhill = tf.boolean_mask(vectors, root_valences <= 0.0)\n",
    "hds = hd.tenney.hd_aggregate_graph(downhill[:, None, :])\n",
    "reasonable = tf.boolean_mask(downhill, hds < 8.0)\n",
    "reasonable = tf.stack([tf.zeros_like(reasonable), reasonable], 1)"
   ]
  },
  {
   "cell_type": "code",
   "execution_count": 22,
   "metadata": {},
   "outputs": [],
   "source": [
    "hds = hd.tenney.hd_aggregate_graph(reasonable) + 1.0\n",
    "pds = hd.tenney.pd_aggregate_graph(reasonable)\n",
    "hds_np, pds_np = sess.run([hds, pds])\n",
    "hds = tf.constant(hds_np)\n",
    "pds = tf.constant(pds_np)"
   ]
  },
  {
   "cell_type": "code",
   "execution_count": 23,
   "metadata": {},
   "outputs": [],
   "source": [
    "N_POINTS = 1024\n",
    "C = 0.02\n",
    "LEARNING_RATE = 1.0e-3\n",
    "CONVERGENCE_THRESHOLD = 1.0e-12\n",
    "MAX_ITERS = 1000000\n",
    "\n",
    "xs = np.linspace(-1.0, 1.0, N_POINTS)"
   ]
  },
  {
   "cell_type": "code",
   "execution_count": 24,
   "metadata": {},
   "outputs": [],
   "source": [
    "with tf.variable_scope(\"default\", reuse=tf.AUTO_REUSE):\n",
    "    log_pitches = tf.get_variable(\"log_pitches_1024x2\", [N_POINTS, 2], dtype=tf.float64)\n",
    "    init_op = tf.global_variables_initializer()"
   ]
  },
  {
   "cell_type": "code",
   "execution_count": 25,
   "metadata": {},
   "outputs": [],
   "source": [
    "loss = hd.optimize.parabolic_loss_function(pds, hds, log_pitches, a=C, b=C)\n",
    "stopping_op = hd.optimize.stopping_op(loss, [log_pitches], lr=LEARNING_RATE, ct=CONVERGENCE_THRESHOLD)"
   ]
  },
  {
   "cell_type": "code",
   "execution_count": 26,
   "metadata": {},
   "outputs": [],
   "source": [
    "xys = np.stack([np.zeros_like(xs), xs], 1)"
   ]
  },
  {
   "cell_type": "code",
   "execution_count": 27,
   "metadata": {
    "scrolled": true
   },
   "outputs": [
    {
     "data": {
      "text/plain": [
       "array([51.        , 50.80468769, 50.60975759, ...,  3.0022933 ,\n",
       "        3.00057332,  3.        ])"
      ]
     },
     "execution_count": 27,
     "metadata": {},
     "output_type": "execute_result"
    }
   ],
   "source": [
    "sess.run(init_op)\n",
    "sess.run(log_pitches.assign(xys))\n",
    "sess.run(loss)"
   ]
  },
  {
   "cell_type": "code",
   "execution_count": null,
   "metadata": {
    "scrolled": true
   },
   "outputs": [],
   "source": [
    "for idx in range(MAX_ITERS):\n",
    "    if (sess.run(stopping_op, run_metadata=run_metadata)):\n",
    "        print(\"Converged at iteration: \", idx)\n",
    "        out_pitches = np.array(sess.run(log_pitches))\n",
    "        print(out_pitches)\n",
    "        break"
   ]
  },
  {
   "cell_type": "code",
   "execution_count": 37,
   "metadata": {},
   "outputs": [
    {
     "name": "stdout",
     "output_type": "stream",
     "text": [
      "[[[-1.  0.  0.  0.  0.  0.]]\n",
      "\n",
      " [[-1.  0.  0.  0.  0.  0.]]\n",
      "\n",
      " [[-1.  0.  0.  0.  0.  0.]]\n",
      "\n",
      " ...\n",
      "\n",
      " [[ 1.  0.  0.  0.  0.  0.]]\n",
      "\n",
      " [[ 1.  0.  0.  0.  0.  0.]]\n",
      "\n",
      " [[ 1.  0.  0.  0.  0.  0.]]]\n",
      "46\n",
      "(1.0, 2.0)\n",
      "(11.0, 21.0)\n",
      "(8.0, 15.0)\n",
      "(7.0, 13.0)\n",
      "(6.0, 11.0)\n",
      "(5.0, 9.0)\n",
      "(4.0, 7.0)\n",
      "(3.0, 5.0)\n",
      "(8.0, 13.0)\n",
      "(7.0, 11.0)\n",
      "(2.0, 3.0)\n",
      "(9.0, 13.0)\n",
      "(5.0, 7.0)\n",
      "(8.0, 11.0)\n",
      "(11.0, 15.0)\n",
      "(10.0, 13.0)\n",
      "(7.0, 9.0)\n",
      "(4.0, 5.0)\n",
      "(9.0, 11.0)\n",
      "(11.0, 13.0)\n",
      "(6.0, 7.0)\n",
      "(13.0, 15.0)\n",
      "(8.0, 9.0)\n",
      "(10.0, 11.0)\n",
      "(12.0, 13.0)\n",
      "(14.0, 15.0)\n",
      "(1.0, 1.0)\n",
      "(16.0, 15.0)\n",
      "(14.0, 13.0)\n",
      "(12.0, 11.0)\n",
      "(10.0, 9.0)\n",
      "(8.0, 7.0)\n",
      "(6.0, 5.0)\n",
      "(16.0, 13.0)\n",
      "(14.0, 11.0)\n",
      "(4.0, 3.0)\n",
      "(18.0, 13.0)\n",
      "(10.0, 7.0)\n",
      "(16.0, 11.0)\n",
      "(14.0, 9.0)\n",
      "(8.0, 5.0)\n",
      "(18.0, 11.0)\n",
      "(12.0, 7.0)\n",
      "(16.0, 9.0)\n",
      "(20.0, 11.0)\n",
      "(2.0, 1.0)\n"
     ]
    }
   ],
   "source": [
    "log_vectors = hd.vectors.pd_graph(reasonable)\n",
    "diffs_to_poles = tf.abs(tf.tile(log_vectors[:, None, None], [1, 1, 1]) - out_pitches)\n",
    "mins = tf.argmin(diffs_to_poles, axis=0)\n",
    "winner = tf.map_fn(lambda m: tf.map_fn(lambda v: reasonable[v], m, dtype=tf.float64), mins, dtype=tf.float64)\n",
    "winners = sess.run(winner)\n",
    "print(winners)\n",
    "\n",
    "def vector_to_ratio(vector):\n",
    "    primes = hd.PRIMES[:vector.shape[0]]\n",
    "    num = np.where(vector > 0, vector, np.zeros_like(primes))\n",
    "    den = np.where(vector < 0, vector, np.zeros_like(primes))\n",
    "    return (\n",
    "        np.product(np.power(primes, num)), \n",
    "        np.product(primes ** np.abs(den))\n",
    "    )\n",
    "\n",
    "all_possible_pitches = set()\n",
    "\n",
    "for row in winners:\n",
    "    all_possible_pitches.add(tuple([vector_to_ratio(r) for r in row]))\n",
    "\n",
    "print(len(all_possible_pitches))\n",
    "for pit in sorted(all_possible_pitches, key=lambda r: (r[0][0] / r[0][1])):\n",
    "    print(pit[0])"
   ]
  },
  {
   "cell_type": "code",
   "execution_count": null,
   "metadata": {},
   "outputs": [],
   "source": []
  }
 ],
 "metadata": {
  "kernelspec": {
   "display_name": "Python 3",
   "language": "python",
   "name": "python3"
  },
  "language_info": {
   "codemirror_mode": {
    "name": "ipython",
    "version": 3
   },
   "file_extension": ".py",
   "mimetype": "text/x-python",
   "name": "python",
   "nbconvert_exporter": "python",
   "pygments_lexer": "ipython3",
   "version": "3.6.3"
  }
 },
 "nbformat": 4,
 "nbformat_minor": 2
}
