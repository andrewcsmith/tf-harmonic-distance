{
 "cells": [
  {
   "cell_type": "markdown",
   "metadata": {},
   "source": [
    "# Optimizing a single point (n-dimensional pitch aggregate)\n",
    "\n",
    "This noteboook demonstrates how to find the optimal tuning for a single point. In this case, a \"point\" is a pitch aggregate in n-dimensional space, where the pitch aggregate contains n+1 pitches. For example, a triad would be 2-dimensional. The values of the dimensions are equal to the base-2 logarithms of the ratios of the frequencies from one of the pitches (which we might call the \"root\").\n",
    "\n",
    "## TensorBoard\n",
    "\n",
    "If you would like to use [TensorBoard](https://www.tensorflow.org/tensorboard) to dig into the logs, you will need to install and run it from the command line. The following installation example uses conda, but you can use pip if you so desire.\n",
    "\n",
    "```bash\n",
    "conda install -n <your_environment> tensorboard\n",
    "tensorboard --logdir logs/fit\n",
    "```\n",
    "\n",
    "## Setup and Usage\n",
    "\n",
    "First, import all the necessary libraries."
   ]
  },
  {
   "cell_type": "code",
   "execution_count": 1,
   "metadata": {},
   "outputs": [],
   "source": [
    "%load_ext autoreload\n",
    "%autoreload 2"
   ]
  },
  {
   "cell_type": "code",
   "execution_count": 2,
   "metadata": {},
   "outputs": [],
   "source": [
    "import tensorflow as tf\n",
    "\n",
    "devices = tf.config.experimental.get_visible_devices('GPU')\n",
    "if len(devices) > 0:\n",
    "    tf.config.experimental.set_memory_growth(devices[0], True)\n",
    "    \n",
    "import harmonic_distance as hd\n",
    "import numpy as np\n",
    "import datetime"
   ]
  },
  {
   "cell_type": "markdown",
   "metadata": {},
   "source": [
    "## About the VectorSpace\n",
    "\n",
    "The _vector space_ can be thought of as the list of \"all possible pitches.\"\n",
    "\n",
    "In this implementation, we're using a `VectorSpace` subclass of [`tf.Module`](https://www.tensorflow.org/api_docs/python/tf/Module?version=stable) to cache the variables that do not change through each iteration.\n",
    "\n",
    "### `hd.vectors.space_graph_altered_permutations`\n",
    "\n",
    "The array `[5, 5, 3, 3, 2, 1]` sets the number of degrees along each dimension of the harmonic lattice (Tenney 19XX) that are available for tuning. The `bounds` value of `(0.0, 4.0)` restricts these harmonic possibilities to a 4-octave range in pitch space.\n",
    "\n",
    "### `hd.tenney.hd_aggregate_graph`\n",
    "\n",
    "Calculates the harmonic distance of every vector.\n",
    "\n",
    "### `vectors_reasonable`\n",
    "\n",
    "Restricts the possible pitches to values with a harmonic distances less than `9.0`. This is useful for the purposes of reducing memory consumption."
   ]
  },
  {
   "cell_type": "markdown",
   "metadata": {},
   "source": [
    "## Minimizing one interval\n",
    "\n",
    "When we set `dimensions=1`, we are only attempting to minimize the harmonic distance of a single interval using the Adagrad (Adaptive Gradient Descent) algorithm.\n",
    "\n",
    "## `prime_limits`\n",
    "\n",
    "The `prime_limits` variable sets the maximum number of dimensions along the Tenney \"harmonic lattice\" that are used when generating the possible vector space. The defaults are overwritten here with smaller values (and restricting to a 7-limit harmonic space) to facilitate faster computation.\n",
    "\n",
    "### About the Adagrad optimization algorithm\n",
    "\n",
    "The Adagrad algorithm is short for \"Adaptive Gradient Descent,\" and is implemented as part of the Tensorflow package. The algorithm uses a different learning rate for each dimension in the training variable vector (equivalent to a single \"feature\" in most machine learning applications). Variable that change by a large amount have their learning rates increased, while variables that change very little have very low learning rates. The advantage to this method is that it converges much more quickly than traditional gradient descent.\n",
    "\n",
    "### Other algorithms\n",
    "\n",
    "The Adam (Adagrad with Momentum) algorithm was also tried extensively. The \"momentum\" feature has the advantage for most applications of ensuring that the function does not fall into small local minima; however, for our purpose, we are very interested in finding local minima."
   ]
  },
  {
   "cell_type": "code",
   "execution_count": 5,
   "metadata": {},
   "outputs": [],
   "source": [
    "# working with a smaller set of prime limits here for speed of debugging\n",
    "minimizer = hd.optimize.Minimizer(dimensions=1, prime_limits=[4, 3, 2, 1])"
   ]
  },
  {
   "cell_type": "markdown",
   "metadata": {},
   "source": [
    "### Running the algorithm\n",
    "\n",
    "After initializing the `Minimizer`, we can assign the starting pitches as a one-dimensional `Tensor` or `Array` of shape `(dims,)`, where `dims` is equal to the `dimensions` argument from the initialization of the `Minimizer`.\n",
    "\n",
    "Then, a single call to `minimizer.minimize()` will run the loop up to `MAX_ITERS` times until convergence is reached."
   ]
  },
  {
   "cell_type": "code",
   "execution_count": 6,
   "metadata": {},
   "outputs": [
    {
     "data": {
      "text/plain": [
       "<tf.Variable 'Variable:0' shape=(1,) dtype=float64, numpy=array([0.3219285])>"
      ]
     },
     "execution_count": 6,
     "metadata": {},
     "output_type": "execute_result"
    }
   ],
   "source": [
    "minimizer.log_pitches.assign([4/12])\n",
    "minimizer.minimize()\n",
    "minimizer.log_pitches"
   ]
  },
  {
   "cell_type": "markdown",
   "metadata": {},
   "source": [
    "### Finding the ratio value of the optimized pitch\n",
    "\n",
    "The library has a few functions to determine what rationalized pitch (in the `VectorSpace`) is the correct match. Check it out:"
   ]
  },
  {
   "cell_type": "code",
   "execution_count": 7,
   "metadata": {},
   "outputs": [
    {
     "data": {
      "text/plain": [
       "(5.0, 4.0)"
      ]
     },
     "execution_count": 7,
     "metadata": {},
     "output_type": "execute_result"
    }
   ],
   "source": [
    "winner = hd.vectors.closest_from_log([minimizer.log_pitches], minimizer.vs.vectors)\n",
    "hd.vectors.to_ratio(winner[0])"
   ]
  }
 ],
 "metadata": {
  "kernelspec": {
   "display_name": "Python 3",
   "language": "python",
   "name": "python3"
  },
  "language_info": {
   "codemirror_mode": {
    "name": "ipython",
    "version": 3
   },
   "file_extension": ".py",
   "mimetype": "text/x-python",
   "name": "python",
   "nbconvert_exporter": "python",
   "pygments_lexer": "ipython3",
   "version": "3.6.7"
  }
 },
 "nbformat": 4,
 "nbformat_minor": 2
}
