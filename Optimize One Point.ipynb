{
 "cells": [
  {
   "cell_type": "markdown",
   "metadata": {},
   "source": [
    "# Optimizing a single point (n-dimensional pitch aggregate)\n",
    "\n",
    "This noteboook demonstrates how to find the optimal tuning for a single point. In this case, a \"point\" is a pitch aggregate in n-dimensional space, where the pitch aggregate contains n+1 pitches. For example, a triad would be 2-dimensional. The values of the dimensions are equal to the base-2 logarithms of the ratios of the frequencies from one of the pitches (which we might call the \"root\")."
   ]
  },
  {
   "cell_type": "markdown",
   "metadata": {},
   "source": [
    "## Setup and Usage\n",
    "\n",
    "The next few cells import the required tools and set some basic variables."
   ]
  },
  {
   "cell_type": "code",
   "execution_count": 2,
   "metadata": {},
   "outputs": [],
   "source": [
    "# %load_ext autoreload\n",
    "# %autoreload 2"
   ]
  },
  {
   "cell_type": "code",
   "execution_count": 1,
   "metadata": {},
   "outputs": [],
   "source": [
    "import tensorflow as tf\n",
    "\n",
    "devices = tf.config.experimental.get_visible_devices('GPU')\n",
    "if len(devices) > 0:\n",
    "    tf.config.experimental.set_memory_growth(devices[0], True)"
   ]
  },
  {
   "cell_type": "code",
   "execution_count": 2,
   "metadata": {},
   "outputs": [],
   "source": [
    "import harmonic_distance as hd\n",
    "import numpy as np"
   ]
  },
  {
   "cell_type": "markdown",
   "metadata": {},
   "source": [
    "## Global Constants\n",
    "\n",
    "These constants should be scaled appropriately. Comments are in-line."
   ]
  },
  {
   "cell_type": "code",
   "execution_count": 18,
   "metadata": {},
   "outputs": [],
   "source": [
    "# The \"curve\" of the parabola around each possible pitch. A higher \n",
    "# value will lead to fewer possible pitches.\n",
    "C = 0.01\n",
    "\n",
    "# The learning rate of the optimization algorithm. A higher value \n",
    "# will converge more quickly, if possible, but might never converge.\n",
    "LEARNING_RATE = 1.0e-3\n",
    "\n",
    "# The convergence threshold is the norm of the gradients of the loss\n",
    "# function. This is used to test whether a proper \"valley\" has been found.\n",
    "CONVERGENCE_THRESHOLD = 1.0e-3"
   ]
  },
  {
   "cell_type": "markdown",
   "metadata": {},
   "source": [
    "## Creating the vector space\n",
    "\n",
    "The _vector space_ can be thought of as the list of \"all possible pitches.\"\n",
    "\n",
    "In this implementation, we're using a `VectorSpace` subclass of [`tf.Module`](https://www.tensorflow.org/api_docs/python/tf/Module?version=stable) to cache the variables that do not change through each iteration.\n",
    "\n",
    "### `hd.vectors.space_graph_altered_permutations`\n",
    "\n",
    "The array `[5, 5, 3, 3, 2, 1]` sets the number of degrees along each dimension of the harmonic lattice (Tenney 19XX) that are available for tuning. The `bounds` value of `(0.0, 4.0)` restricts these harmonic possibilities to a 4-octave range in pitch space.\n",
    "\n",
    "### `hd.tenney.hd_aggregate_graph`\n",
    "\n",
    "Calculates the harmonic distance of every vector.\n",
    "\n",
    "### `vectors_reasonable`\n",
    "\n",
    "Restricts the possible pitches to values with a harmonic distances less than `9.0`. This is useful for the purposes of reducing memory consumption."
   ]
  },
  {
   "cell_type": "markdown",
   "metadata": {},
   "source": [
    "## Setting starting values\n",
    "\n",
    "The starting values are in base-2 logarithmic form. These values listed below are a perfect fourth and a minor seventh above a given root."
   ]
  },
  {
   "cell_type": "code",
   "execution_count": 19,
   "metadata": {},
   "outputs": [],
   "source": [
    "class Minimizer(tf.Module):\n",
    "    def __init__(self):\n",
    "        starting_values = [5.0 / 12.0, 10.0 / 12.0]\n",
    "        self.opt = tf.optimizers.Adagrad(learning_rate=LEARNING_RATE)\n",
    "        self.vs = hd.vectors.VectorSpace(dimensions=1)\n",
    "        self.log_pitches = tf.Variable(starting_values, dtype=tf.float64)\n",
    "    \n",
    "    @tf.function\n",
    "    def minimize(self):\n",
    "        while self.stopping_op():\n",
    "            self.opt.minimize(lambda: self.loss(self.log_pitches), self.log_pitches)\n",
    "            \n",
    "    @tf.function\n",
    "    def loss(self, var_list):\n",
    "        return hd.optimize.parabolic_loss_function(self.vs.pds, self.vs.hds, var_list, curves=(C, C))\n",
    "            \n",
    "    @tf.function\n",
    "    def stopping_op(self):\n",
    "        with tf.GradientTape() as g:\n",
    "            dz_dv = g.gradient(self.loss(self.log_pitches), self.log_pitches)\n",
    "        norms = tf.nn.l2_loss(dz_dv)\n",
    "        return norms >= CONVERGENCE_THRESHOLD"
   ]
  },
  {
   "cell_type": "code",
   "execution_count": 20,
   "metadata": {},
   "outputs": [],
   "source": [
    "minimizer = Minimizer()"
   ]
  },
  {
   "cell_type": "code",
   "execution_count": 23,
   "metadata": {},
   "outputs": [
    {
     "data": {
      "text/plain": "<tf.Variable 'Variable:0' shape=(2,) dtype=float64, numpy=array([0.32192809, 0.84799194])>"
     },
     "execution_count": 23,
     "metadata": {},
     "output_type": "execute_result"
    }
   ],
   "source": [
    "minimizer.log_pitches.assign([4.0 / 12.0, 10.0 / 12.0])\n",
    "minimizer.minimize()\n",
    "minimizer.log_pitches"
   ]
  },
  {
   "cell_type": "code",
   "execution_count": 22,
   "metadata": {},
   "outputs": [
    {
     "data": {
      "text/plain": "array([0.84799691])"
     },
     "execution_count": 22,
     "metadata": {},
     "output_type": "execute_result"
    }
   ],
   "source": [
    "np.log2([9.0 / 5.0])"
   ]
  }
 ],
 "metadata": {
  "kernelspec": {
   "display_name": "Python 3",
   "language": "python",
   "name": "python3"
  },
  "language_info": {
   "codemirror_mode": {
    "name": "ipython",
    "version": 3
   },
   "file_extension": ".py",
   "mimetype": "text/x-python",
   "name": "python",
   "nbconvert_exporter": "python",
   "pygments_lexer": "ipython3",
   "version": "3.6.7"
  }
 },
 "nbformat": 4,
 "nbformat_minor": 2
}