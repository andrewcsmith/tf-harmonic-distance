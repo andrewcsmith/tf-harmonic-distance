{
 "cells": [
  {
   "cell_type": "code",
   "execution_count": 1,
   "metadata": {},
   "outputs": [],
   "source": [
    "import tensorflow as tf\n",
    "\n",
    "physical_devices = tf.config.experimental.list_physical_devices('GPU')\n",
    "tf.config.experimental.set_memory_growth(physical_devices[0], True)\n",
    "\n",
    "import harmonic_distance as hd\n",
    "import numpy as np\n",
    "import matplotlib.pyplot as plt\n",
    "import importlib"
   ]
  },
  {
   "cell_type": "code",
   "execution_count": 2,
   "metadata": {},
   "outputs": [],
   "source": [
    "c = tf.constant(0.2, dtype=tf.float64)\n",
    "n_points = 1024"
   ]
  },
  {
   "cell_type": "code",
   "execution_count": 3,
   "metadata": {},
   "outputs": [
    {
     "name": "stderr",
     "output_type": "stream",
     "text": [
      "WARNING: Logging before flag parsing goes to stderr.\n",
      "W0623 09:51:45.094810 16080 deprecation.py:323] From C:\\Users\\andrewcsmith\\Miniconda3\\lib\\site-packages\\tensorflow\\python\\ops\\array_ops.py:1340: add_dispatch_support.<locals>.wrapper (from tensorflow.python.ops.array_ops) is deprecated and will be removed in a future version.\n",
      "Instructions for updating:\n",
      "Use tf.where in 2.0, which has the same broadcast rule as np.where\n"
     ]
    },
    {
     "name": "stdout",
     "output_type": "stream",
     "text": [
      "Ratios: \t [1.         1.125      1.33333333 1.5        2.        ]\n",
      "Log-2 Ratios: \t [0.        0.169925  0.4150375 0.5849625 1.       ]\n"
     ]
    },
    {
     "data": {
      "text/plain": [
       "<tf.Tensor: id=107, shape=(5, 2), dtype=float64, numpy=\n",
       "array([[-3.,  2.],\n",
       "       [-1.,  1.],\n",
       "       [ 0.,  0.],\n",
       "       [ 1.,  0.],\n",
       "       [ 2., -1.]])>"
      ]
     },
     "execution_count": 3,
     "metadata": {},
     "output_type": "execute_result"
    }
   ],
   "source": [
    "# We're just calculating the unison, fourth, fifth, octave\n",
    "@tf.function\n",
    "def get_vectors():\n",
    "    return hd.vectors.space_graph(2, 3, bounds=(0.0, 1.0))\n",
    "vecs = get_vectors()\n",
    "ratios = np.sort(np.prod(hd.PRIMES[:vecs.shape[-1]] ** vecs, axis=1))\n",
    "# Print out the logs of the vectors\n",
    "print(\"Ratios: \\t\", ratios)\n",
    "print(\"Log-2 Ratios: \\t\", np.log2(ratios))\n",
    "vecs"
   ]
  },
  {
   "cell_type": "code",
   "execution_count": 4,
   "metadata": {},
   "outputs": [],
   "source": [
    "# Tensor for the permutations of unison, fourth, fifth, octave\n",
    "@tf.function\n",
    "def get_perms():\n",
    "    return hd.cartesian.permutations(vecs, times=2)\n",
    "perms = get_perms()"
   ]
  },
  {
   "cell_type": "code",
   "execution_count": 5,
   "metadata": {},
   "outputs": [],
   "source": [
    "pds = hd.tenney.pd_aggregate_graph(perms)\n",
    "hds = hd.tenney.hd_aggregate_graph(perms) + 1.0"
   ]
  },
  {
   "cell_type": "code",
   "execution_count": 6,
   "metadata": {},
   "outputs": [
    {
     "data": {
      "text/plain": [
       "<tf.Variable 'log_pitches:0' shape=(1024, 2) dtype=float64, numpy=\n",
       "array([[0.45051748, 0.29493469],\n",
       "       [0.82897355, 0.65372032],\n",
       "       [0.29920822, 0.15303255],\n",
       "       ...,\n",
       "       [0.53547324, 0.73166546],\n",
       "       [0.52652156, 0.5448573 ],\n",
       "       [0.96786561, 0.13849204]])>"
      ]
     },
     "execution_count": 6,
     "metadata": {},
     "output_type": "execute_result"
    }
   ],
   "source": [
    "log_pitches = tf.Variable(tf.random.uniform([n_points, 2], dtype=tf.float64), name=\"log_pitches\", dtype=tf.float64)\n",
    "log_pitches"
   ]
  },
  {
   "cell_type": "code",
   "execution_count": 7,
   "metadata": {},
   "outputs": [],
   "source": [
    "xs = np.linspace(0.0, 1.0, n_points)"
   ]
  },
  {
   "cell_type": "code",
   "execution_count": 8,
   "metadata": {},
   "outputs": [],
   "source": [
    "def z_calc(pds, hds, log_pitches, a=1.0, b=1.0):\n",
    "    \"\"\"\n",
    "    pds: Pitch distance coordinate values of each vector in the space\n",
    "    hds: Aggregate harmonic distance values of each vector in the space\n",
    "    log_pitches: The set of pitches to evaluate\n",
    "    \"\"\"\n",
    "    distances = tf.map_fn(lambda x: hd.utilities.reduce_parabola(pds - x, curves=(a, b)), log_pitches)\n",
    "    return tf.reduce_min(distances * hds + hds, axis=1)"
   ]
  },
  {
   "cell_type": "code",
   "execution_count": 9,
   "metadata": {},
   "outputs": [],
   "source": [
    "def assign_coords_and_return(slice_level, a=1.0, b=1.0):\n",
    "    \"\"\"\n",
    "    Given a y-level (in a 2-dimensional space), take a slice of it with a xs.\n",
    "    \"\"\"\n",
    "    xy_coords = np.hstack([xs[:, None], np.full_like(xs, slice_level)[:, None]])\n",
    "    \n",
    "    @tf.function\n",
    "    def get_z():\n",
    "        return z_calc(pds, hds, tf.constant(xy_coords, dtype=tf.float64), a=a, b=b)\n",
    "        \n",
    "    @tf.function\n",
    "    def get_pds():\n",
    "        return pds\n",
    "    plt.ylim(0.0, 50.0)\n",
    "    for x in get_pds():\n",
    "        plt.axvline(x=x[0].numpy())\n",
    "    plt.plot(xs, get_z())"
   ]
  },
  {
   "cell_type": "code",
   "execution_count": 10,
   "metadata": {
    "scrolled": true
   },
   "outputs": [
    {
     "data": {
      "image/png": "[encoded data removed]",
      "text/plain": [
       "<Figure size 432x288 with 1 Axes>"
      ]
     },
     "metadata": {
      "needs_background": "light"
     },
     "output_type": "display_data"
    }
   ],
   "source": [
    "assign_coords_and_return(0.0, a=0.001, b=0.001)"
   ]
  },
  {
   "cell_type": "markdown",
   "metadata": {},
   "source": [
    "## 2-dimensional optimization\n",
    "\n",
    "Setting out the batch sizes, etc.\n",
    "\n",
    "We're reusing the vectors etc. from above"
   ]
  },
  {
   "cell_type": "code",
   "execution_count": 11,
   "metadata": {},
   "outputs": [],
   "source": [
    "C = 0.02\n",
    "LEARNING_RATE = 1.0e-3\n",
    "CONVERGENCE_THRESHOLD = 1.0e-8\n",
    "MAX_ITERS = 1000000\n",
    "DIMENSIONS = 2\n",
    "BATCH_SIZE = 512\n",
    "POINTS_PER_DIMENSION = 64\n",
    "xs = np.linspace(0.00, 1.0, POINTS_PER_DIMENSION)\n",
    "ys = np.linspace(0.00, 1.0, POINTS_PER_DIMENSION)\n",
    "xv, yv = np.meshgrid(xs, ys, sparse=False)\n",
    "zv = np.array([])"
   ]
  },
  {
   "cell_type": "code",
   "execution_count": 13,
   "metadata": {},
   "outputs": [],
   "source": [
    "log_pitches = tf.Variable(tf.random.normal([BATCH_SIZE, DIMENSIONS], dtype=tf.float64))"
   ]
  },
  {
   "cell_type": "code",
   "execution_count": 14,
   "metadata": {},
   "outputs": [],
   "source": [
    "loss = z_calc(pds, hds, log_pitches, a=C, b=C)"
   ]
  },
  {
   "cell_type": "code",
   "execution_count": 21,
   "metadata": {},
   "outputs": [],
   "source": [
    "np.save(\"hds\", hds.numpy())\n",
    "np.save(\"pds\", pds.numpy())"
   ]
  },
  {
   "cell_type": "code",
   "execution_count": 15,
   "metadata": {},
   "outputs": [
    {
     "ename": "AttributeError",
     "evalue": "module 'tensorflow._api.v2.train' has no attribute 'GradientDescentOptimizer'",
     "output_type": "error",
     "traceback": [
      "\u001b[1;31m---------------------------------------------------------------------------\u001b[0m",
      "\u001b[1;31mAttributeError\u001b[0m                            Traceback (most recent call last)",
      "\u001b[1;32m<ipython-input-15-a7f453db7644>\u001b[0m in \u001b[0;36m<module>\u001b[1;34m\u001b[0m\n\u001b[1;32m----> 1\u001b[1;33m \u001b[0mstopping_op\u001b[0m \u001b[1;33m=\u001b[0m \u001b[0mhd\u001b[0m\u001b[1;33m.\u001b[0m\u001b[0moptimize\u001b[0m\u001b[1;33m.\u001b[0m\u001b[0mstopping_op\u001b[0m\u001b[1;33m(\u001b[0m\u001b[0mloss\u001b[0m\u001b[1;33m,\u001b[0m \u001b[1;33m[\u001b[0m\u001b[0mlog_pitches\u001b[0m\u001b[1;33m]\u001b[0m\u001b[1;33m,\u001b[0m \u001b[0mlr\u001b[0m\u001b[1;33m=\u001b[0m\u001b[0mLEARNING_RATE\u001b[0m\u001b[1;33m,\u001b[0m \u001b[0mct\u001b[0m\u001b[1;33m=\u001b[0m\u001b[0mCONVERGENCE_THRESHOLD\u001b[0m\u001b[1;33m)\u001b[0m\u001b[1;33m\u001b[0m\u001b[1;33m\u001b[0m\u001b[0m\n\u001b[0m",
      "\u001b[1;32mc:\\users\\andrewcsmith\\workspaces\\music\\tf-harmonic-distance\\harmonic_distance\\harmonic_distance\\optimize.py\u001b[0m in \u001b[0;36mstopping_op\u001b[1;34m(loss, var_list, lr, ct)\u001b[0m\n\u001b[0;32m      8\u001b[0m     \u001b[0mcan\u001b[0m \u001b[0mbe\u001b[0m \u001b[0mevaluated\u001b[0m \u001b[0mto\u001b[0m \u001b[0msee\u001b[0m \u001b[0mwhether\u001b[0m \u001b[0mthe\u001b[0m \u001b[0mvariables\u001b[0m \u001b[0mhave\u001b[0m \u001b[0mproperly\u001b[0m \u001b[0mconverged\u001b[0m\u001b[1;33m.\u001b[0m\u001b[1;33m\u001b[0m\u001b[1;33m\u001b[0m\u001b[0m\n\u001b[0;32m      9\u001b[0m     \"\"\"\n\u001b[1;32m---> 10\u001b[1;33m     \u001b[0mopt\u001b[0m \u001b[1;33m=\u001b[0m \u001b[0mtf\u001b[0m\u001b[1;33m.\u001b[0m\u001b[0mtrain\u001b[0m\u001b[1;33m.\u001b[0m\u001b[0mGradientDescentOptimizer\u001b[0m\u001b[1;33m(\u001b[0m\u001b[0mlearning_rate\u001b[0m\u001b[1;33m=\u001b[0m\u001b[0mlr\u001b[0m\u001b[1;33m)\u001b[0m\u001b[1;33m\u001b[0m\u001b[1;33m\u001b[0m\u001b[0m\n\u001b[0m\u001b[0;32m     11\u001b[0m     \u001b[0mcompute_grad_op\u001b[0m \u001b[1;33m=\u001b[0m \u001b[0mopt\u001b[0m\u001b[1;33m.\u001b[0m\u001b[0mcompute_gradients\u001b[0m\u001b[1;33m(\u001b[0m\u001b[0mloss\u001b[0m\u001b[1;33m,\u001b[0m \u001b[0mvar_list\u001b[0m\u001b[1;33m=\u001b[0m\u001b[0mvar_list\u001b[0m\u001b[1;33m)\u001b[0m\u001b[1;33m\u001b[0m\u001b[1;33m\u001b[0m\u001b[0m\n\u001b[0;32m     12\u001b[0m     \u001b[0mgrad_norms_op\u001b[0m \u001b[1;33m=\u001b[0m \u001b[1;33m[\u001b[0m\u001b[0mtf\u001b[0m\u001b[1;33m.\u001b[0m\u001b[0mnn\u001b[0m\u001b[1;33m.\u001b[0m\u001b[0ml2_loss\u001b[0m\u001b[1;33m(\u001b[0m\u001b[0mg\u001b[0m\u001b[1;33m)\u001b[0m \u001b[1;32mfor\u001b[0m \u001b[0mg\u001b[0m\u001b[1;33m,\u001b[0m \u001b[0mv\u001b[0m \u001b[1;32min\u001b[0m \u001b[0mcompute_grad_op\u001b[0m\u001b[1;33m]\u001b[0m\u001b[1;33m\u001b[0m\u001b[1;33m\u001b[0m\u001b[0m\n",
      "\u001b[1;31mAttributeError\u001b[0m: module 'tensorflow._api.v2.train' has no attribute 'GradientDescentOptimizer'"
     ]
    }
   ],
   "source": [
    "stopping_op = hd.optimize.stopping_op(loss, [log_pitches], lr=LEARNING_RATE, ct=CONVERGENCE_THRESHOLD)"
   ]
  },
  {
   "cell_type": "code",
   "execution_count": 60,
   "metadata": {},
   "outputs": [],
   "source": [
    "# Creates a vector of pairs of shape [n_points**dimensions, dimensions]\n",
    "starting_coordinates = np.array([xv, yv]).reshape(DIMENSIONS, POINTS_PER_DIMENSION**DIMENSIONS).T\n",
    "starting_dataset = tf.data.Dataset.from_tensor_slices({\n",
    "    \"coords\": tf.constant(starting_coordinates)\n",
    "})\n",
    "starting_iterator = starting_dataset.batch(BATCH_SIZE).make_one_shot_iterator()\n",
    "next_element = starting_iterator.get_next()\n",
    "assign_op = log_pitches.assign(next_element['coords'])"
   ]
  },
  {
   "cell_type": "code",
   "execution_count": 61,
   "metadata": {},
   "outputs": [],
   "source": [
    "all_possible_pitches_log = np.empty([0, 2])"
   ]
  },
  {
   "cell_type": "code",
   "execution_count": 62,
   "metadata": {},
   "outputs": [
    {
     "name": "stdout",
     "output_type": "stream",
     "text": [
      "Converged at iteration:  184\n",
      "Converged at iteration:  209\n",
      "Converged at iteration:  216\n",
      "Converged at iteration:  211\n",
      "Converged at iteration:  199\n",
      "Converged at iteration:  207\n",
      "Converged at iteration:  201\n",
      "Converged at iteration:  187\n"
     ]
    }
   ],
   "source": [
    "while True:\n",
    "    try:\n",
    "        sess.run([assign_op])\n",
    "        for idx in range(MAX_ITERS):\n",
    "            if (sess.run(stopping_op)):\n",
    "                print(\"Converged at iteration: \", idx)\n",
    "                out_pitches = np.array(sess.run(log_pitches))\n",
    "                all_possible_pitches_log = np.concatenate([all_possible_pitches_log, out_pitches])\n",
    "                break\n",
    "    except tf.errors.OutOfRangeError:\n",
    "        break"
   ]
  },
  {
   "cell_type": "code",
   "execution_count": 63,
   "metadata": {},
   "outputs": [
    {
     "data": {
      "text/plain": [
       "array([[0.00000000e+00, 0.00000000e+00],\n",
       "       [1.87200106e-20, 0.00000000e+00],\n",
       "       [3.74400212e-20, 0.00000000e+00],\n",
       "       ...,\n",
       "       [1.00000000e+00, 1.00000000e+00],\n",
       "       [1.00000000e+00, 1.00000000e+00],\n",
       "       [1.00000000e+00, 1.00000000e+00]])"
      ]
     },
     "execution_count": 63,
     "metadata": {},
     "output_type": "execute_result"
    }
   ],
   "source": [
    "all_possible_pitches_log"
   ]
  },
  {
   "cell_type": "code",
   "execution_count": 64,
   "metadata": {},
   "outputs": [
    {
     "name": "stdout",
     "output_type": "stream",
     "text": [
      "(4096, 2)\n",
      "[[0.00000000e+00 0.00000000e+00]\n",
      " [1.87200106e-20 0.00000000e+00]\n",
      " [3.74400212e-20 0.00000000e+00]\n",
      " ...\n",
      " [1.00000000e+00 1.00000000e+00]\n",
      " [1.00000000e+00 1.00000000e+00]\n",
      " [1.00000000e+00 1.00000000e+00]]\n",
      "[[[0. 0. 0.]\n",
      "  [0. 0. 0.]]\n",
      "\n",
      " [[0. 0. 0.]\n",
      "  [0. 0. 0.]]\n",
      "\n",
      " [[0. 0. 0.]\n",
      "  [0. 0. 0.]]\n",
      "\n",
      " ...\n",
      "\n",
      " [[1. 0. 0.]\n",
      "  [1. 0. 0.]]\n",
      "\n",
      " [[1. 0. 0.]\n",
      "  [1. 0. 0.]]\n",
      "\n",
      " [[1. 0. 0.]\n",
      "  [1. 0. 0.]]]\n",
      "20\n",
      "[((1.0, 1.0), (1.0, 1.0)), ((1.0, 1.0), (5.0, 4.0)), ((1.0, 1.0), (4.0, 3.0)), ((1.0, 1.0), (3.0, 2.0)), ((1.0, 1.0), (5.0, 3.0)), ((1.0, 1.0), (2.0, 1.0)), ((5.0, 4.0), (1.0, 1.0)), ((5.0, 4.0), (5.0, 4.0)), ((4.0, 3.0), (1.0, 1.0)), ((4.0, 3.0), (4.0, 3.0)), ((4.0, 3.0), (2.0, 1.0)), ((3.0, 2.0), (1.0, 1.0)), ((3.0, 2.0), (3.0, 2.0)), ((3.0, 2.0), (2.0, 1.0)), ((5.0, 3.0), (1.0, 1.0)), ((5.0, 3.0), (5.0, 3.0)), ((2.0, 1.0), (1.0, 1.0)), ((2.0, 1.0), (4.0, 3.0)), ((2.0, 1.0), (3.0, 2.0)), ((2.0, 1.0), (2.0, 1.0))]\n"
     ]
    }
   ],
   "source": [
    "print(all_possible_pitches_log.shape)\n",
    "log_vectors = hd.vectors.pd_graph(vectors)\n",
    "\n",
    "print(all_possible_pitches_log)\n",
    "diffs_to_poles = tf.abs(tf.tile(log_vectors[:, None, None], [1, 1, 2]) - all_possible_pitches_log)\n",
    "mins = tf.argmin(diffs_to_poles, axis=0)\n",
    "winner = tf.map_fn(lambda m: tf.map_fn(lambda v: vectors[v], m, dtype=tf.float64), mins, dtype=tf.float64)\n",
    "winners = sess.run(winner)\n",
    "print(winners)\n",
    "\n",
    "def vector_to_ratio(vector):\n",
    "    primes = hd.PRIMES[:vector.shape[0]]\n",
    "    num = np.where(vector > 0, vector, np.zeros_like(primes))\n",
    "    den = np.where(vector < 0, vector, np.zeros_like(primes))\n",
    "    return (\n",
    "        np.product(np.power(primes, num)), \n",
    "        np.product(primes ** np.abs(den))\n",
    "    )\n",
    "\n",
    "all_possible_pitches = set()\n",
    "\n",
    "for row in winners:\n",
    "    all_possible_pitches.add(tuple([vector_to_ratio(r) for r in row]))\n",
    "\n",
    "print(len(all_possible_pitches))\n",
    "print(sorted(all_possible_pitches, key=lambda r: (r[0][0] / r[0][1], r[1][0] / r[1][1])))"
   ]
  },
  {
   "cell_type": "code",
   "execution_count": null,
   "metadata": {},
   "outputs": [],
   "source": []
  }
 ],
 "metadata": {
  "kernelspec": {
   "display_name": "Python 3",
   "language": "python",
   "name": "python3"
  },
  "language_info": {
   "codemirror_mode": {
    "name": "ipython",
    "version": 3
   },
   "file_extension": ".py",
   "mimetype": "text/x-python",
   "name": "python",
   "nbconvert_exporter": "python",
   "pygments_lexer": "ipython3",
   "version": "3.6.7"
  }
 },
 "nbformat": 4,
 "nbformat_minor": 2
}
