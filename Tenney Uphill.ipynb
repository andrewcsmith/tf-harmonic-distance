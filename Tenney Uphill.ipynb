{
 "cells": [
  {
   "cell_type": "code",
   "execution_count": 1,
   "metadata": {},
   "outputs": [],
   "source": [
    "import hd\n",
    "import numpy as np\n",
    "import tensorflow as tf\n",
    "import matplotlib.pyplot as plt\n",
    "import importlib"
   ]
  },
  {
   "cell_type": "code",
   "execution_count": 8,
   "metadata": {},
   "outputs": [],
   "source": [
    "config = tf.ConfigProto()\n",
    "config.gpu_options.allow_growth = True\n",
    "sess = tf.Session(config=config)"
   ]
  },
  {
   "cell_type": "code",
   "execution_count": 25,
   "metadata": {},
   "outputs": [],
   "source": [
    "# exponent vectors for the series of prime numbers\n",
    "vecs = np.array([\n",
    "    [1., 0., 0.],  # 2/1\n",
    "    [-1., 1., 0.], # 3/2\n",
    "    [-2., 0., 1.], # 5/4\n",
    "    [1., 1., -1.], # 6/5\n",
    "    [2., -1., 0.], # 4/3\n",
    "    [-1., 0., 0.]  # 1/2\n",
    "])"
   ]
  },
  {
   "cell_type": "code",
   "execution_count": 26,
   "metadata": {},
   "outputs": [
    {
     "data": {
      "text/plain": [
       "array([[ 1.        ,  0.        ,  0.        ],\n",
       "       [-1.        ,  1.5849625 ,  0.        ],\n",
       "       [-2.        ,  0.        ,  2.32192809],\n",
       "       [ 1.        ,  1.5849625 , -2.32192809],\n",
       "       [ 2.        , -1.5849625 ,  0.        ],\n",
       "       [-1.        ,  0.        ,  0.        ]])"
      ]
     },
     "execution_count": 26,
     "metadata": {},
     "output_type": "execute_result"
    }
   ],
   "source": [
    "# This gets us the signed exponents\n",
    "exploded = hd.tenney.exploded_hd_graph(3, vecs)\n",
    "sess.run(exploded)"
   ]
  },
  {
   "cell_type": "code",
   "execution_count": 35,
   "metadata": {},
   "outputs": [
    {
     "data": {
      "text/plain": [
       "array([[ 0.        ,  0.        ,  0.        ],\n",
       "       [ 0.        ,  1.5849625 ,  0.        ],\n",
       "       [ 0.        ,  0.        ,  2.32192809],\n",
       "       [ 0.        ,  1.5849625 , -2.32192809],\n",
       "       [ 0.        , -1.5849625 ,  0.        ],\n",
       "       [ 0.        ,  0.        ,  0.        ]])"
      ]
     },
     "execution_count": 35,
     "metadata": {},
     "output_type": "execute_result"
    }
   ],
   "source": [
    "octave_equivalence = tf.pad(exploded[:, 1:], [[0, 0], [1, 0]])\n",
    "sess.run(octave_equivalence)"
   ]
  },
  {
   "cell_type": "code",
   "execution_count": 28,
   "metadata": {},
   "outputs": [
    {
     "data": {
      "text/plain": [
       "array([ 1.        ,  0.5849625 ,  0.32192809,  0.26303441,  0.4150375 ,\n",
       "       -1.        ])"
      ]
     },
     "execution_count": 28,
     "metadata": {},
     "output_type": "execute_result"
    }
   ],
   "source": [
    "# summed = tf.reduce_sum(exploded, axis=1)\n",
    "sess.run(summed)"
   ]
  },
  {
   "cell_type": "code",
   "execution_count": null,
   "metadata": {},
   "outputs": [],
   "source": []
  }
 ],
 "metadata": {
  "kernelspec": {
   "display_name": "Python 3",
   "language": "python",
   "name": "python3"
  },
  "language_info": {
   "codemirror_mode": {
    "name": "ipython",
    "version": 3
   },
   "file_extension": ".py",
   "mimetype": "text/x-python",
   "name": "python",
   "nbconvert_exporter": "python",
   "pygments_lexer": "ipython3",
   "version": "3.6.3"
  }
 },
 "nbformat": 4,
 "nbformat_minor": 2
}
